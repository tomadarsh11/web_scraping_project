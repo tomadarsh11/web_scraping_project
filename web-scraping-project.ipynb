{
 "cells": [
  {
   "cell_type": "markdown",
   "id": "c5855d49",
   "metadata": {},
   "source": [
    "# Top Repositories For Github Topics\n"
   ]
  },
  {
   "cell_type": "markdown",
   "id": "7bbac7c8",
   "metadata": {},
   "source": [
    "## Pick a website and describe your objective\n",
    "- Browse through different sites and pick on to scrape. Check the \"Project Ideas\" section for inspiration.\n",
    "- Identify the information you'd like to scrape from the site. Decide the format of the output CSV file.\n",
    "- Summarize your project idea and outline your strategy in a Juptyer notebook. Use the \"New\" button above."
   ]
  },
  {
   "cell_type": "markdown",
   "id": "22776883",
   "metadata": {},
   "source": [
    "## Project Outline\n",
    "- we are going to scrap  https://github.com/topics\n",
    "- We'll get a list of topics. For each topic, we'll get topic title, topic page URL and topic description\n",
    "- For each topic, we'll get the top 25 repositories in the topic from the topic page \n",
    "- For each repository, we'll grab the repo name, username, stars and repo URL\n",
    "- For each topic we'll create a CSV file in the following format:\n",
    "```\n",
    "Repo Name,User Name,Stars,Repo Url\n",
    "three.js,mrdoob,94100,https://github.com/mrdoob/three.js\n",
    "libgdx,libgdx,21800,https://github.com/libgdx/libgdx\n",
    "```"
   ]
  },
  {
   "cell_type": "markdown",
   "id": "dfa7d992",
   "metadata": {},
   "source": [
    "## Use the requests library to download web pages"
   ]
  },
  {
   "cell_type": "code",
   "execution_count": 4,
   "id": "fba9ab71",
   "metadata": {},
   "outputs": [],
   "source": [
    "!pip install requests --upgrade --quiet"
   ]
  },
  {
   "cell_type": "code",
   "execution_count": 5,
   "id": "50e066ff",
   "metadata": {},
   "outputs": [],
   "source": [
    "import requests"
   ]
  },
  {
   "cell_type": "code",
   "execution_count": 6,
   "id": "32c0b905",
   "metadata": {},
   "outputs": [],
   "source": [
    "topics_url = 'https://github.com/topics'"
   ]
  },
  {
   "cell_type": "code",
   "execution_count": 7,
   "id": "580e115b",
   "metadata": {},
   "outputs": [],
   "source": [
    "response = requests.get(topics_url)"
   ]
  },
  {
   "cell_type": "code",
   "execution_count": 8,
   "id": "b8f2622b",
   "metadata": {
    "scrolled": true
   },
   "outputs": [
    {
     "data": {
      "text/plain": [
       "200"
      ]
     },
     "execution_count": 8,
     "metadata": {},
     "output_type": "execute_result"
    }
   ],
   "source": [
    "response.status_code"
   ]
  },
  {
   "cell_type": "code",
   "execution_count": 9,
   "id": "6574f71d",
   "metadata": {},
   "outputs": [],
   "source": [
    "page_contents = response.text"
   ]
  },
  {
   "cell_type": "code",
   "execution_count": 10,
   "id": "ed5bb8d6",
   "metadata": {},
   "outputs": [
    {
     "data": {
      "text/plain": [
       "'\\n\\n<!DOCTYPE html>\\n<html lang=\"en\" data-color-mode=\"auto\" data-light-theme=\"light\" data-dark-theme=\"dark\"  data-a11y-animated-images=\"system\" data-a11y-link-underlines=\"false\">\\n\\n\\n  <head>\\n    <meta charset=\"utf-8\">\\n  <link rel=\"dns-prefetch\" href=\"https://github.githubassets.com\">\\n  <link rel=\"dns-prefetch\" href=\"https://avatars.githubusercontent.com\">\\n  <link rel=\"dns-prefetch\" href=\"https://github-cloud.s3.amazonaws.com\">\\n  <link rel=\"dns-prefetch\" href=\"https://user-images.githubusercontent.com/\">\\n  <link rel=\"preconnect\" href=\"https://github.githubassets.com\" crossorigin>\\n  <link rel=\"preconnect\" href=\"https://avatars.githubusercontent.com\">\\n\\n  \\n\\n  <link crossorigin=\"anonymous\" media=\"all\" rel=\"stylesheet\" href=\"https://github.githubassets.com/assets/light-983b05c0927a.css\" /><link crossorigin=\"anonymous\" media=\"all\" rel=\"stylesheet\" href=\"https://github.githubassets.com/assets/dark-5d486a4ede8e.css\" /><link data-color-theme=\"dark_dimmed\" crossorigin=\"anonymous\" media=\"all\" rel=\"sty'"
      ]
     },
     "execution_count": 10,
     "metadata": {},
     "output_type": "execute_result"
    }
   ],
   "source": [
    "page_contents[:1000]"
   ]
  },
  {
   "cell_type": "code",
   "execution_count": 11,
   "id": "094331cb",
   "metadata": {},
   "outputs": [],
   "source": [
    "with open('webpage.html', 'w') as f:\n",
    "    f.write(page_contents)"
   ]
  },
  {
   "cell_type": "markdown",
   "id": "fc3c4072",
   "metadata": {},
   "source": [
    "# Use Beautiful Soup to parse and extract information\n"
   ]
  },
  {
   "cell_type": "code",
   "execution_count": 12,
   "id": "e01e4a74",
   "metadata": {},
   "outputs": [],
   "source": [
    "!pip install beautifulsoup4 --upgrade --quiet"
   ]
  },
  {
   "cell_type": "code",
   "execution_count": 13,
   "id": "c05b8126",
   "metadata": {},
   "outputs": [],
   "source": [
    "from bs4 import BeautifulSoup"
   ]
  },
  {
   "cell_type": "code",
   "execution_count": 14,
   "id": "990cdc71",
   "metadata": {},
   "outputs": [],
   "source": [
    "doc = BeautifulSoup(page_contents, 'html.parser')"
   ]
  },
  {
   "cell_type": "code",
   "execution_count": 15,
   "id": "ec021552",
   "metadata": {},
   "outputs": [],
   "source": [
    "selection_class= 'f3 lh-condensed mb-0 mt-1 Link--primary'\n",
    "topic_title_tags= doc.find_all ('p' ,{'class': selection_class})\n"
   ]
  },
  {
   "cell_type": "code",
   "execution_count": 16,
   "id": "cf6b21f5",
   "metadata": {},
   "outputs": [
    {
     "data": {
      "text/plain": [
       "30"
      ]
     },
     "execution_count": 16,
     "metadata": {},
     "output_type": "execute_result"
    }
   ],
   "source": [
    "len(topic_title_tags)"
   ]
  },
  {
   "cell_type": "code",
   "execution_count": 17,
   "id": "015c830f",
   "metadata": {},
   "outputs": [
    {
     "data": {
      "text/plain": [
       "[<p class=\"f3 lh-condensed mb-0 mt-1 Link--primary\">3D</p>,\n",
       " <p class=\"f3 lh-condensed mb-0 mt-1 Link--primary\">Ajax</p>,\n",
       " <p class=\"f3 lh-condensed mb-0 mt-1 Link--primary\">Algorithm</p>,\n",
       " <p class=\"f3 lh-condensed mb-0 mt-1 Link--primary\">Amp</p>,\n",
       " <p class=\"f3 lh-condensed mb-0 mt-1 Link--primary\">Android</p>]"
      ]
     },
     "execution_count": 17,
     "metadata": {},
     "output_type": "execute_result"
    }
   ],
   "source": [
    "topic_title_tags[:5]\n"
   ]
  },
  {
   "cell_type": "code",
   "execution_count": 18,
   "id": "4ef2eaae",
   "metadata": {},
   "outputs": [],
   "source": [
    "desc_selector ='f5 color-fg-muted mb-0 mt-1'\n",
    "topic_desc_tags = doc.find_all ('p', {'class' : desc_selector})"
   ]
  },
  {
   "cell_type": "code",
   "execution_count": 19,
   "id": "146cc6f8",
   "metadata": {},
   "outputs": [
    {
     "data": {
      "text/plain": [
       "30"
      ]
     },
     "execution_count": 19,
     "metadata": {},
     "output_type": "execute_result"
    }
   ],
   "source": [
    "len(topic_desc_tags)"
   ]
  },
  {
   "cell_type": "code",
   "execution_count": 20,
   "id": "7fabec18",
   "metadata": {},
   "outputs": [
    {
     "data": {
      "text/plain": [
       "[<p class=\"f5 color-fg-muted mb-0 mt-1\">\n",
       "           3D refers to the use of three-dimensional graphics, modeling, and animation in various industries.\n",
       "         </p>,\n",
       " <p class=\"f5 color-fg-muted mb-0 mt-1\">\n",
       "           Ajax is a technique for creating interactive web applications.\n",
       "         </p>,\n",
       " <p class=\"f5 color-fg-muted mb-0 mt-1\">\n",
       "           Algorithms are self-contained sequences that carry out a variety of tasks.\n",
       "         </p>,\n",
       " <p class=\"f5 color-fg-muted mb-0 mt-1\">\n",
       "           Amp is a non-blocking concurrency library for PHP.\n",
       "         </p>,\n",
       " <p class=\"f5 color-fg-muted mb-0 mt-1\">\n",
       "           Android is an operating system built by Google designed for mobile devices.\n",
       "         </p>]"
      ]
     },
     "execution_count": 20,
     "metadata": {},
     "output_type": "execute_result"
    }
   ],
   "source": [
    "topic_desc_tags[:5]"
   ]
  },
  {
   "cell_type": "code",
   "execution_count": 21,
   "id": "70c5abcc",
   "metadata": {},
   "outputs": [],
   "source": [
    "topic_title_tag0 = topic_title_tags [0]"
   ]
  },
  {
   "cell_type": "code",
   "execution_count": 22,
   "id": "cf667f5c",
   "metadata": {},
   "outputs": [],
   "source": [
    "div_tag = topic_title_tag0.parent\n"
   ]
  },
  {
   "cell_type": "code",
   "execution_count": 23,
   "id": "c5ef4e69",
   "metadata": {},
   "outputs": [],
   "source": [
    "topic_link_tags = doc.find_all( 'a', {'class':'no-underline flex-grow-0'})"
   ]
  },
  {
   "cell_type": "code",
   "execution_count": 24,
   "id": "09f99301",
   "metadata": {},
   "outputs": [
    {
     "name": "stdout",
     "output_type": "stream",
     "text": [
      "http://github.com/topics/3d\n"
     ]
    }
   ],
   "source": [
    "topic0_url=\"http://github.com\" +topic_link_tags[0]['href']\n",
    "print (topic0_url)"
   ]
  },
  {
   "cell_type": "code",
   "execution_count": 25,
   "id": "d1db8d6b",
   "metadata": {},
   "outputs": [
    {
     "name": "stdout",
     "output_type": "stream",
     "text": [
      "['3D', 'Ajax', 'Algorithm', 'Amp', 'Android', 'Angular', 'Ansible', 'API', 'Arduino', 'ASP.NET', 'Atom', 'Awesome Lists', 'Amazon Web Services', 'Azure', 'Babel', 'Bash', 'Bitcoin', 'Bootstrap', 'Bot', 'C', 'Chrome', 'Chrome extension', 'Command line interface', 'Clojure', 'Code quality', 'Code review', 'Compiler', 'Continuous integration', 'COVID-19', 'C++']\n"
     ]
    }
   ],
   "source": [
    "topic_titles = []\n",
    "for tag in topic_title_tags:\n",
    "    topic_titles.append(tag.text)\n",
    "print(topic_titles)"
   ]
  },
  {
   "cell_type": "code",
   "execution_count": 26,
   "id": "c79443de",
   "metadata": {},
   "outputs": [
    {
     "data": {
      "text/plain": [
       "['3D refers to the use of three-dimensional graphics, modeling, and animation in various industries.',\n",
       " 'Ajax is a technique for creating interactive web applications.',\n",
       " 'Algorithms are self-contained sequences that carry out a variety of tasks.',\n",
       " 'Amp is a non-blocking concurrency library for PHP.',\n",
       " 'Android is an operating system built by Google designed for mobile devices.',\n",
       " 'Angular is an open source web application platform.',\n",
       " 'Ansible is a simple and powerful automation engine.',\n",
       " 'An API (Application Programming Interface) is a collection of protocols and subroutines for building software.',\n",
       " 'Arduino is an open source platform for building electronic devices.',\n",
       " 'ASP.NET is a web framework for building modern web apps and services.',\n",
       " 'Atom is a open source text editor built with web technologies.',\n",
       " 'An awesome list is a list of awesome things curated by the community.',\n",
       " 'Amazon Web Services provides on-demand cloud computing platforms on a subscription basis.',\n",
       " 'Azure is a cloud computing service created by Microsoft.',\n",
       " 'Babel is a compiler for writing next generation JavaScript, today.',\n",
       " 'Bash is a shell and command language interpreter for the GNU operating system.',\n",
       " 'Bitcoin is a cryptocurrency developed by Satoshi Nakamoto.',\n",
       " 'Bootstrap is an HTML, CSS, and JavaScript framework.',\n",
       " 'A bot is an application that runs automated tasks over the Internet.',\n",
       " 'C is a general purpose programming language that first appeared in 1972.',\n",
       " 'Chrome is a web browser from the tech company Google.',\n",
       " 'Chrome extensions enable users to customize the Chrome browsing experience.',\n",
       " 'A CLI, or command-line interface, is a console that helps users issue commands to a program.',\n",
       " 'Clojure is a dynamic, general-purpose programming language.',\n",
       " 'Automate your code review with style, quality, security, and test‑coverage checks when you need them.',\n",
       " 'Ensure your code meets quality standards and ship with confidence.',\n",
       " 'Compilers are software that translate higher-level programming languages to lower-level languages (e.g. machine code).',\n",
       " 'Automatically build and test your code as you push it upstream, preventing bugs from being deployed to production.',\n",
       " 'The coronavirus disease 2019 (COVID-19) is an infectious disease caused by SARS-CoV-2.',\n",
       " 'C++ is a general purpose and object-oriented programming language.']"
      ]
     },
     "execution_count": 26,
     "metadata": {},
     "output_type": "execute_result"
    }
   ],
   "source": [
    "topic_descs =[]\n",
    "for tag in  topic_desc_tags:\n",
    "    topic_descs.append(tag.text.strip())\n",
    "#     strip is used to eliminate the spaces before and after the line \n",
    "topic_descs"
   ]
  },
  {
   "cell_type": "code",
   "execution_count": 27,
   "id": "31eccacc",
   "metadata": {},
   "outputs": [
    {
     "data": {
      "text/plain": [
       "['http://github.com/topics/3d',\n",
       " 'http://github.com/topics/ajax',\n",
       " 'http://github.com/topics/algorithm',\n",
       " 'http://github.com/topics/amphp',\n",
       " 'http://github.com/topics/android',\n",
       " 'http://github.com/topics/angular',\n",
       " 'http://github.com/topics/ansible',\n",
       " 'http://github.com/topics/api',\n",
       " 'http://github.com/topics/arduino',\n",
       " 'http://github.com/topics/aspnet',\n",
       " 'http://github.com/topics/atom',\n",
       " 'http://github.com/topics/awesome',\n",
       " 'http://github.com/topics/aws',\n",
       " 'http://github.com/topics/azure',\n",
       " 'http://github.com/topics/babel',\n",
       " 'http://github.com/topics/bash',\n",
       " 'http://github.com/topics/bitcoin',\n",
       " 'http://github.com/topics/bootstrap',\n",
       " 'http://github.com/topics/bot',\n",
       " 'http://github.com/topics/c',\n",
       " 'http://github.com/topics/chrome',\n",
       " 'http://github.com/topics/chrome-extension',\n",
       " 'http://github.com/topics/cli',\n",
       " 'http://github.com/topics/clojure',\n",
       " 'http://github.com/topics/code-quality',\n",
       " 'http://github.com/topics/code-review',\n",
       " 'http://github.com/topics/compiler',\n",
       " 'http://github.com/topics/continuous-integration',\n",
       " 'http://github.com/topics/covid-19',\n",
       " 'http://github.com/topics/cpp']"
      ]
     },
     "execution_count": 27,
     "metadata": {},
     "output_type": "execute_result"
    }
   ],
   "source": [
    "topic_url = []\n",
    "base_url='http://github.com'\n",
    "for tag in topic_link_tags:\n",
    "    topic_url.append(base_url+tag['href'])\n",
    "topic_url\n",
    "    "
   ]
  },
  {
   "cell_type": "code",
   "execution_count": 28,
   "id": "6c1ee6c4",
   "metadata": {},
   "outputs": [],
   "source": [
    "!pip install pandas --quiet"
   ]
  },
  {
   "cell_type": "code",
   "execution_count": 29,
   "id": "3bc52743",
   "metadata": {},
   "outputs": [],
   "source": [
    "import pandas as pd"
   ]
  },
  {
   "cell_type": "code",
   "execution_count": 30,
   "id": "389bbfe7",
   "metadata": {},
   "outputs": [],
   "source": [
    "topics_dict = {\n",
    "   'title' : topic_titles,\n",
    "    'description' : topic_descs,\n",
    "    'url': topic_url\n",
    "}"
   ]
  },
  {
   "cell_type": "code",
   "execution_count": 31,
   "id": "e2947760",
   "metadata": {},
   "outputs": [],
   "source": [
    "topics_df = pd.DataFrame(topics_dict)"
   ]
  },
  {
   "cell_type": "code",
   "execution_count": 32,
   "id": "61d2c25b",
   "metadata": {},
   "outputs": [
    {
     "data": {
      "text/html": [
       "<div>\n",
       "<style scoped>\n",
       "    .dataframe tbody tr th:only-of-type {\n",
       "        vertical-align: middle;\n",
       "    }\n",
       "\n",
       "    .dataframe tbody tr th {\n",
       "        vertical-align: top;\n",
       "    }\n",
       "\n",
       "    .dataframe thead th {\n",
       "        text-align: right;\n",
       "    }\n",
       "</style>\n",
       "<table border=\"1\" class=\"dataframe\">\n",
       "  <thead>\n",
       "    <tr style=\"text-align: right;\">\n",
       "      <th></th>\n",
       "      <th>title</th>\n",
       "      <th>description</th>\n",
       "      <th>url</th>\n",
       "    </tr>\n",
       "  </thead>\n",
       "  <tbody>\n",
       "    <tr>\n",
       "      <th>0</th>\n",
       "      <td>3D</td>\n",
       "      <td>3D refers to the use of three-dimensional grap...</td>\n",
       "      <td>http://github.com/topics/3d</td>\n",
       "    </tr>\n",
       "    <tr>\n",
       "      <th>1</th>\n",
       "      <td>Ajax</td>\n",
       "      <td>Ajax is a technique for creating interactive w...</td>\n",
       "      <td>http://github.com/topics/ajax</td>\n",
       "    </tr>\n",
       "    <tr>\n",
       "      <th>2</th>\n",
       "      <td>Algorithm</td>\n",
       "      <td>Algorithms are self-contained sequences that c...</td>\n",
       "      <td>http://github.com/topics/algorithm</td>\n",
       "    </tr>\n",
       "    <tr>\n",
       "      <th>3</th>\n",
       "      <td>Amp</td>\n",
       "      <td>Amp is a non-blocking concurrency library for ...</td>\n",
       "      <td>http://github.com/topics/amphp</td>\n",
       "    </tr>\n",
       "    <tr>\n",
       "      <th>4</th>\n",
       "      <td>Android</td>\n",
       "      <td>Android is an operating system built by Google...</td>\n",
       "      <td>http://github.com/topics/android</td>\n",
       "    </tr>\n",
       "    <tr>\n",
       "      <th>5</th>\n",
       "      <td>Angular</td>\n",
       "      <td>Angular is an open source web application plat...</td>\n",
       "      <td>http://github.com/topics/angular</td>\n",
       "    </tr>\n",
       "    <tr>\n",
       "      <th>6</th>\n",
       "      <td>Ansible</td>\n",
       "      <td>Ansible is a simple and powerful automation en...</td>\n",
       "      <td>http://github.com/topics/ansible</td>\n",
       "    </tr>\n",
       "    <tr>\n",
       "      <th>7</th>\n",
       "      <td>API</td>\n",
       "      <td>An API (Application Programming Interface) is ...</td>\n",
       "      <td>http://github.com/topics/api</td>\n",
       "    </tr>\n",
       "    <tr>\n",
       "      <th>8</th>\n",
       "      <td>Arduino</td>\n",
       "      <td>Arduino is an open source platform for buildin...</td>\n",
       "      <td>http://github.com/topics/arduino</td>\n",
       "    </tr>\n",
       "    <tr>\n",
       "      <th>9</th>\n",
       "      <td>ASP.NET</td>\n",
       "      <td>ASP.NET is a web framework for building modern...</td>\n",
       "      <td>http://github.com/topics/aspnet</td>\n",
       "    </tr>\n",
       "    <tr>\n",
       "      <th>10</th>\n",
       "      <td>Atom</td>\n",
       "      <td>Atom is a open source text editor built with w...</td>\n",
       "      <td>http://github.com/topics/atom</td>\n",
       "    </tr>\n",
       "    <tr>\n",
       "      <th>11</th>\n",
       "      <td>Awesome Lists</td>\n",
       "      <td>An awesome list is a list of awesome things cu...</td>\n",
       "      <td>http://github.com/topics/awesome</td>\n",
       "    </tr>\n",
       "    <tr>\n",
       "      <th>12</th>\n",
       "      <td>Amazon Web Services</td>\n",
       "      <td>Amazon Web Services provides on-demand cloud c...</td>\n",
       "      <td>http://github.com/topics/aws</td>\n",
       "    </tr>\n",
       "    <tr>\n",
       "      <th>13</th>\n",
       "      <td>Azure</td>\n",
       "      <td>Azure is a cloud computing service created by ...</td>\n",
       "      <td>http://github.com/topics/azure</td>\n",
       "    </tr>\n",
       "    <tr>\n",
       "      <th>14</th>\n",
       "      <td>Babel</td>\n",
       "      <td>Babel is a compiler for writing next generatio...</td>\n",
       "      <td>http://github.com/topics/babel</td>\n",
       "    </tr>\n",
       "    <tr>\n",
       "      <th>15</th>\n",
       "      <td>Bash</td>\n",
       "      <td>Bash is a shell and command language interpret...</td>\n",
       "      <td>http://github.com/topics/bash</td>\n",
       "    </tr>\n",
       "    <tr>\n",
       "      <th>16</th>\n",
       "      <td>Bitcoin</td>\n",
       "      <td>Bitcoin is a cryptocurrency developed by Satos...</td>\n",
       "      <td>http://github.com/topics/bitcoin</td>\n",
       "    </tr>\n",
       "    <tr>\n",
       "      <th>17</th>\n",
       "      <td>Bootstrap</td>\n",
       "      <td>Bootstrap is an HTML, CSS, and JavaScript fram...</td>\n",
       "      <td>http://github.com/topics/bootstrap</td>\n",
       "    </tr>\n",
       "    <tr>\n",
       "      <th>18</th>\n",
       "      <td>Bot</td>\n",
       "      <td>A bot is an application that runs automated ta...</td>\n",
       "      <td>http://github.com/topics/bot</td>\n",
       "    </tr>\n",
       "    <tr>\n",
       "      <th>19</th>\n",
       "      <td>C</td>\n",
       "      <td>C is a general purpose programming language th...</td>\n",
       "      <td>http://github.com/topics/c</td>\n",
       "    </tr>\n",
       "    <tr>\n",
       "      <th>20</th>\n",
       "      <td>Chrome</td>\n",
       "      <td>Chrome is a web browser from the tech company ...</td>\n",
       "      <td>http://github.com/topics/chrome</td>\n",
       "    </tr>\n",
       "    <tr>\n",
       "      <th>21</th>\n",
       "      <td>Chrome extension</td>\n",
       "      <td>Chrome extensions enable users to customize th...</td>\n",
       "      <td>http://github.com/topics/chrome-extension</td>\n",
       "    </tr>\n",
       "    <tr>\n",
       "      <th>22</th>\n",
       "      <td>Command line interface</td>\n",
       "      <td>A CLI, or command-line interface, is a console...</td>\n",
       "      <td>http://github.com/topics/cli</td>\n",
       "    </tr>\n",
       "    <tr>\n",
       "      <th>23</th>\n",
       "      <td>Clojure</td>\n",
       "      <td>Clojure is a dynamic, general-purpose programm...</td>\n",
       "      <td>http://github.com/topics/clojure</td>\n",
       "    </tr>\n",
       "    <tr>\n",
       "      <th>24</th>\n",
       "      <td>Code quality</td>\n",
       "      <td>Automate your code review with style, quality,...</td>\n",
       "      <td>http://github.com/topics/code-quality</td>\n",
       "    </tr>\n",
       "    <tr>\n",
       "      <th>25</th>\n",
       "      <td>Code review</td>\n",
       "      <td>Ensure your code meets quality standards and s...</td>\n",
       "      <td>http://github.com/topics/code-review</td>\n",
       "    </tr>\n",
       "    <tr>\n",
       "      <th>26</th>\n",
       "      <td>Compiler</td>\n",
       "      <td>Compilers are software that translate higher-l...</td>\n",
       "      <td>http://github.com/topics/compiler</td>\n",
       "    </tr>\n",
       "    <tr>\n",
       "      <th>27</th>\n",
       "      <td>Continuous integration</td>\n",
       "      <td>Automatically build and test your code as you ...</td>\n",
       "      <td>http://github.com/topics/continuous-integration</td>\n",
       "    </tr>\n",
       "    <tr>\n",
       "      <th>28</th>\n",
       "      <td>COVID-19</td>\n",
       "      <td>The coronavirus disease 2019 (COVID-19) is an ...</td>\n",
       "      <td>http://github.com/topics/covid-19</td>\n",
       "    </tr>\n",
       "    <tr>\n",
       "      <th>29</th>\n",
       "      <td>C++</td>\n",
       "      <td>C++ is a general purpose and object-oriented p...</td>\n",
       "      <td>http://github.com/topics/cpp</td>\n",
       "    </tr>\n",
       "  </tbody>\n",
       "</table>\n",
       "</div>"
      ],
      "text/plain": [
       "                     title                                        description  \\\n",
       "0                       3D  3D refers to the use of three-dimensional grap...   \n",
       "1                     Ajax  Ajax is a technique for creating interactive w...   \n",
       "2                Algorithm  Algorithms are self-contained sequences that c...   \n",
       "3                      Amp  Amp is a non-blocking concurrency library for ...   \n",
       "4                  Android  Android is an operating system built by Google...   \n",
       "5                  Angular  Angular is an open source web application plat...   \n",
       "6                  Ansible  Ansible is a simple and powerful automation en...   \n",
       "7                      API  An API (Application Programming Interface) is ...   \n",
       "8                  Arduino  Arduino is an open source platform for buildin...   \n",
       "9                  ASP.NET  ASP.NET is a web framework for building modern...   \n",
       "10                    Atom  Atom is a open source text editor built with w...   \n",
       "11           Awesome Lists  An awesome list is a list of awesome things cu...   \n",
       "12     Amazon Web Services  Amazon Web Services provides on-demand cloud c...   \n",
       "13                   Azure  Azure is a cloud computing service created by ...   \n",
       "14                   Babel  Babel is a compiler for writing next generatio...   \n",
       "15                    Bash  Bash is a shell and command language interpret...   \n",
       "16                 Bitcoin  Bitcoin is a cryptocurrency developed by Satos...   \n",
       "17               Bootstrap  Bootstrap is an HTML, CSS, and JavaScript fram...   \n",
       "18                     Bot  A bot is an application that runs automated ta...   \n",
       "19                       C  C is a general purpose programming language th...   \n",
       "20                  Chrome  Chrome is a web browser from the tech company ...   \n",
       "21        Chrome extension  Chrome extensions enable users to customize th...   \n",
       "22  Command line interface  A CLI, or command-line interface, is a console...   \n",
       "23                 Clojure  Clojure is a dynamic, general-purpose programm...   \n",
       "24            Code quality  Automate your code review with style, quality,...   \n",
       "25             Code review  Ensure your code meets quality standards and s...   \n",
       "26                Compiler  Compilers are software that translate higher-l...   \n",
       "27  Continuous integration  Automatically build and test your code as you ...   \n",
       "28                COVID-19  The coronavirus disease 2019 (COVID-19) is an ...   \n",
       "29                     C++  C++ is a general purpose and object-oriented p...   \n",
       "\n",
       "                                                url  \n",
       "0                       http://github.com/topics/3d  \n",
       "1                     http://github.com/topics/ajax  \n",
       "2                http://github.com/topics/algorithm  \n",
       "3                    http://github.com/topics/amphp  \n",
       "4                  http://github.com/topics/android  \n",
       "5                  http://github.com/topics/angular  \n",
       "6                  http://github.com/topics/ansible  \n",
       "7                      http://github.com/topics/api  \n",
       "8                  http://github.com/topics/arduino  \n",
       "9                   http://github.com/topics/aspnet  \n",
       "10                    http://github.com/topics/atom  \n",
       "11                 http://github.com/topics/awesome  \n",
       "12                     http://github.com/topics/aws  \n",
       "13                   http://github.com/topics/azure  \n",
       "14                   http://github.com/topics/babel  \n",
       "15                    http://github.com/topics/bash  \n",
       "16                 http://github.com/topics/bitcoin  \n",
       "17               http://github.com/topics/bootstrap  \n",
       "18                     http://github.com/topics/bot  \n",
       "19                       http://github.com/topics/c  \n",
       "20                  http://github.com/topics/chrome  \n",
       "21        http://github.com/topics/chrome-extension  \n",
       "22                     http://github.com/topics/cli  \n",
       "23                 http://github.com/topics/clojure  \n",
       "24            http://github.com/topics/code-quality  \n",
       "25             http://github.com/topics/code-review  \n",
       "26                http://github.com/topics/compiler  \n",
       "27  http://github.com/topics/continuous-integration  \n",
       "28                http://github.com/topics/covid-19  \n",
       "29                     http://github.com/topics/cpp  "
      ]
     },
     "execution_count": 32,
     "metadata": {},
     "output_type": "execute_result"
    }
   ],
   "source": [
    "topics_df"
   ]
  },
  {
   "cell_type": "markdown",
   "id": "3e63110d",
   "metadata": {},
   "source": [
    "## Create CSV file(s) with the extracted information\n"
   ]
  },
  {
   "cell_type": "code",
   "execution_count": 33,
   "id": "b4a1a5a0",
   "metadata": {},
   "outputs": [],
   "source": [
    "topics_df.to_csv ('topics.csv', index=None )"
   ]
  },
  {
   "cell_type": "code",
   "execution_count": null,
   "id": "8d673638",
   "metadata": {},
   "outputs": [],
   "source": []
  },
  {
   "cell_type": "markdown",
   "id": "e76fdb19",
   "metadata": {},
   "source": [
    "## Getting information out of a topic page "
   ]
  },
  {
   "cell_type": "code",
   "execution_count": 77,
   "id": "a48239f4",
   "metadata": {},
   "outputs": [],
   "source": [
    "topic_page_url = topic_url [1]"
   ]
  },
  {
   "cell_type": "code",
   "execution_count": 78,
   "id": "7dbdeb03",
   "metadata": {},
   "outputs": [
    {
     "data": {
      "text/plain": [
       "'http://github.com/topics/ajax'"
      ]
     },
     "execution_count": 78,
     "metadata": {},
     "output_type": "execute_result"
    }
   ],
   "source": [
    "topic_page_url"
   ]
  },
  {
   "cell_type": "code",
   "execution_count": 79,
   "id": "75e1214a",
   "metadata": {},
   "outputs": [
    {
     "data": {
      "text/plain": [
       "200"
      ]
     },
     "execution_count": 79,
     "metadata": {},
     "output_type": "execute_result"
    }
   ],
   "source": [
    "response.status_code"
   ]
  },
  {
   "cell_type": "code",
   "execution_count": 80,
   "id": "8d161f64",
   "metadata": {},
   "outputs": [
    {
     "data": {
      "text/plain": [
       "166088"
      ]
     },
     "execution_count": 80,
     "metadata": {},
     "output_type": "execute_result"
    }
   ],
   "source": [
    "len(response.text)"
   ]
  },
  {
   "cell_type": "code",
   "execution_count": 89,
   "id": "4dbae3f1",
   "metadata": {},
   "outputs": [],
   "source": [
    "!pip install beautifulsoup4 --upgrade --quiet"
   ]
  },
  {
   "cell_type": "code",
   "execution_count": 93,
   "id": "73fdc18d",
   "metadata": {},
   "outputs": [],
   "source": [
    "from bs4 import BeautifulSoup"
   ]
  },
  {
   "cell_type": "code",
   "execution_count": 94,
   "id": "37146d6f",
   "metadata": {},
   "outputs": [],
   "source": [
    "topic_doc = BeautifulSoup(response.text, 'html.parser')"
   ]
  },
  {
   "cell_type": "code",
   "execution_count": 95,
   "id": "b30f2799",
   "metadata": {},
   "outputs": [],
   "source": [
    "h3_selection_class = 'f3 color-fg-muted text-normal lh-condensed'\n",
    "repo_tags = topic_doc.find_all('h3',{'class': h3_selection_class})"
   ]
  },
  {
   "cell_type": "code",
   "execution_count": 92,
   "id": "7090c3f0",
   "metadata": {
    "scrolled": true
   },
   "outputs": [
    {
     "data": {
      "text/plain": [
       "[]"
      ]
     },
     "execution_count": 92,
     "metadata": {},
     "output_type": "execute_result"
    }
   ],
   "source": [
    "repo_tags\n"
   ]
  },
  {
   "cell_type": "code",
   "execution_count": 86,
   "id": "761a9576",
   "metadata": {},
   "outputs": [
    {
     "data": {
      "text/plain": [
       "0"
      ]
     },
     "execution_count": 86,
     "metadata": {},
     "output_type": "execute_result"
    }
   ],
   "source": [
    "len(repo_tags)"
   ]
  },
  {
   "cell_type": "code",
   "execution_count": 85,
   "id": "6b04619f",
   "metadata": {},
   "outputs": [
    {
     "data": {
      "text/plain": [
       "[]"
      ]
     },
     "execution_count": 85,
     "metadata": {},
     "output_type": "execute_result"
    }
   ],
   "source": [
    "repo_tags"
   ]
  }
 ],
 "metadata": {
  "kernelspec": {
   "display_name": "Python 3 (ipykernel)",
   "language": "python",
   "name": "python3"
  },
  "language_info": {
   "codemirror_mode": {
    "name": "ipython",
    "version": 3
   },
   "file_extension": ".py",
   "mimetype": "text/x-python",
   "name": "python",
   "nbconvert_exporter": "python",
   "pygments_lexer": "ipython3",
   "version": "3.9.7"
  }
 },
 "nbformat": 4,
 "nbformat_minor": 5
}
